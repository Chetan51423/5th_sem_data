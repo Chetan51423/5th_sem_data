{
 "cells": [
  {
   "attachments": {},
   "cell_type": "markdown",
   "metadata": {},
   "source": [
    "Canny Edge detection "
   ]
  },
  {
   "cell_type": "code",
   "execution_count": 6,
   "metadata": {},
   "outputs": [],
   "source": [
    "import cv2\n",
    "import numpy as np\n",
    "import matplotlib.pyplot as plt"
   ]
  },
  {
   "cell_type": "code",
   "execution_count": 2,
   "metadata": {},
   "outputs": [],
   "source": [
    "#Canny Edge detection\n",
    "\n",
    "\n",
    "img = cv2.imread(r\"C:\\Users\\cheta\\Downloads\\ram mandir1.jpeg\", cv2.IMREAD_GRAYSCALE)\n",
    "\n",
    "# Apply Gaussian smoothing with sigma=1\n",
    "img = cv2.GaussianBlur(img, (5, 5), 1)\n",
    "\n",
    "# Apply the Canny edge detector\n",
    "edges = cv2.Canny(img, 50, 150, apertureSize=3)\n",
    "\n",
    "# Display the result\n",
    "cv2.imshow(\"Canny Edge Detection\", edges)\n",
    "cv2.waitKey(0)\n",
    "cv2.destroyAllWindows()"
   ]
  },
  {
   "cell_type": "code",
   "execution_count": 3,
   "metadata": {},
   "outputs": [],
   "source": [
    "# Load the input image\n",
    "img = cv2.imread(r\"C:\\Users\\cheta\\Downloads\\matchbox.jpeg\", cv2.IMREAD_GRAYSCALE)\n",
    "\n",
    "# Apply Gaussian smoothing\n",
    "img = cv2.GaussianBlur(img, (5, 5), 0)\n",
    "\n",
    "# Apply the Canny edge detector\n",
    "edges = cv2.Canny(img, 50, 150)\n",
    "\n",
    "# Detect lines using the Hough Line Transform\n",
    "lines = cv2.HoughLines(edges, 1, np.pi/180, 50)\n",
    "\n",
    "# Draw the lines on the input image\n",
    "for line in lines:\n",
    "    rho, theta = line[0]\n",
    "    a = np.cos(theta)\n",
    "    b = np.sin(theta)\n",
    "    x0 = a * rho\n",
    "    y0 = b * rho\n",
    "    x1 = int(x0 + 1000 * (-b))\n",
    "    y1 = int(y0 + 1000 * (a))\n",
    "    x2 = int(x0 - 1000 * (-b))\n",
    "    y2 = int(y0 - 1000 * (a))\n",
    "    cv2.line(img, (x1, y1), (x2, y2), (0, 0, 255), 2)\n",
    "\n",
    "# Display the result\n",
    "cv2.imshow(\"Hough Line Detection\", img)\n",
    "cv2.waitKey(0)\n",
    "cv2.destroyAllWindows()"
   ]
  },
  {
   "attachments": {},
   "cell_type": "markdown",
   "metadata": {},
   "source": [
    "harris corner detection"
   ]
  },
  {
   "cell_type": "code",
   "execution_count": 5,
   "metadata": {},
   "outputs": [],
   "source": [
    "# Python program to illustrate\n",
    "# corner detection with\n",
    "# Harris Corner Detection Method\n",
    "\n",
    "# organizing imports\n",
    "import cv2\n",
    "import numpy as np\n",
    "\n",
    "# path to input image specified and\n",
    "# image is loaded with imread command\n",
    "image = cv2.imread(r\"C:\\Users\\cheta\\Downloads\\box3.jpeg\")\n",
    "\n",
    "# convert the input image into\n",
    "# grayscale color space\n",
    "operatedImage = cv2.cvtColor(image, cv2.COLOR_BGR2GRAY)\n",
    "\n",
    "# modify the data type\n",
    "# setting to 32-bit floating point\n",
    "operatedImage = np.float32(operatedImage)\n",
    "\n",
    "# apply the cv2.cornerHarris method\n",
    "# to detect the corners with appropriate\n",
    "# values as input parameters\n",
    "dest = cv2.cornerHarris(operatedImage, 2, 5, 0.07)\n",
    "\n",
    "# Results are marked through the dilated corners\n",
    "dest = cv2.dilate(dest, None)\n",
    "\n",
    "# Reverting back to the original image,\n",
    "# with optimal threshold value\n",
    "image[dest > 0.01 * dest.max()]=[0, 0, 255]\n",
    "\n",
    "# the window showing output image with corners\n",
    "cv2.imshow('Image with Borders', image)\n",
    "\n",
    "# De-allocate any associated memory usage\n",
    "if cv2.waitKey(0) & 0xff == 27:\n",
    "\tcv2.destroyAllWindows()"
   ]
  }
 ],
 "metadata": {
  "kernelspec": {
   "display_name": "Python 3",
   "language": "python",
   "name": "python3"
  },
  "language_info": {
   "codemirror_mode": {
    "name": "ipython",
    "version": 3
   },
   "file_extension": ".py",
   "mimetype": "text/x-python",
   "name": "python",
   "nbconvert_exporter": "python",
   "pygments_lexer": "ipython3",
   "version": "3.10.10"
  },
  "orig_nbformat": 4,
  "vscode": {
   "interpreter": {
    "hash": "5e7cc3094231a06124cebf9bc1c37f85c7c620c6bad80be3b2e56f50025fc465"
   }
  }
 },
 "nbformat": 4,
 "nbformat_minor": 2
}
