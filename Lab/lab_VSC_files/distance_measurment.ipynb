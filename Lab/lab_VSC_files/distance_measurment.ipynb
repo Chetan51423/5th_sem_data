{
 "cells": [
  {
   "cell_type": "code",
   "execution_count": 2,
   "metadata": {},
   "outputs": [],
   "source": [
    "# import the necessary packages\n",
    "from imutils import paths\n",
    "import numpy as np\n",
    "import imutils\n",
    "import cv2"
   ]
  },
  {
   "cell_type": "code",
   "execution_count": 3,
   "metadata": {},
   "outputs": [],
   "source": [
    "def find_marker(image):\n",
    "\t# convert the image to grayscale, blur it, and detect edges\n",
    "\tgray = cv2.cvtColor(image, cv2.COLOR_BGR2GRAY)\n",
    "\tgray = cv2.GaussianBlur(gray, (5, 5), 0)\n",
    "\tedged = cv2.Canny(gray, 35, 125)\n",
    "\t# find the contours in the edged image and keep the largest one;\n",
    "\t# we'll assume that this is our piece of paper in the image\n",
    "\tcnts = cv2.findContours(edged.copy(), cv2.RETR_LIST, cv2.CHAIN_APPROX_SIMPLE)\n",
    "\tcnts = imutils.grab_contours(cnts)\n",
    "\tc = max(cnts, key = cv2.contourArea)\n",
    "\t# compute the bounding box of the of the paper region and return it\n",
    "\treturn cv2.minAreaRect(c)"
   ]
  },
  {
   "cell_type": "code",
   "execution_count": 4,
   "metadata": {},
   "outputs": [],
   "source": [
    "def distance_to_camera(knownWidth, focalLength, perWidth):\n",
    "\t# compute and return the distance from the maker to the camera\n",
    "\treturn (knownWidth * focalLength) / perWidth"
   ]
  },
  {
   "cell_type": "code",
   "execution_count": 5,
   "metadata": {},
   "outputs": [],
   "source": [
    "# initialize the known distance from the camera to the object, which\n",
    "# in this case is 24 inches\n",
    "KNOWN_DISTANCE = 24.0\n",
    "# initialize the known object width, which in this case, the piece of\n",
    "# paper is 12 inches wide\n",
    "KNOWN_WIDTH = 11.0\n",
    "# load the furst image that contains an object that is KNOWN TO BE 2 feet\n",
    "# from our camera, then find the paper marker in the image, and initialize\n",
    "# the focal length\n",
    "image = cv2.imread(r\"C:\\Users\\cheta\\Downloads\\abc.jpeg\")\n",
    "marker = find_marker(image)\n",
    "focalLength = (marker[1][0] * KNOWN_DISTANCE) / KNOWN_WIDTH"
   ]
  },
  {
   "cell_type": "code",
   "execution_count": 6,
   "metadata": {},
   "outputs": [],
   "source": [
    "# loop over the images\n",
    "for imagePath in sorted(paths.list_images(\"images\")):\n",
    "\t# load the image, find the marker in the image, then compute the\n",
    "\t# distance to the marker from the camera\n",
    "\timage = cv2.imread(imagePath)\n",
    "\tmarker = find_marker(image)\n",
    "\tinches = distance_to_camera(KNOWN_WIDTH, focalLength, marker[1][0])\n",
    "\t# draw a bounding box around the image and display it\n",
    "\tbox = cv2.cv.BoxPoints(marker) if imutils.is_cv2() else cv2.boxPoints(marker)\n",
    "\tbox = np.int0(box)\n",
    "\tcv2.drawContours(image, [box], -1, (0, 255, 0), 2)\n",
    "\tcv2.putText(image, \"%.2fft\" % (inches / 12),\n",
    "\t\t(image.shape[1] - 200, image.shape[0] - 20), cv2.FONT_HERSHEY_SIMPLEX,\n",
    "\t\t2.0, (0, 255, 0), 3)\n",
    "\tcv2.imshow(\"image\", image)\n",
    "\tcv2.waitKey(0)"
   ]
  }
 ],
 "metadata": {
  "kernelspec": {
   "display_name": "Python 3",
   "language": "python",
   "name": "python3"
  },
  "language_info": {
   "codemirror_mode": {
    "name": "ipython",
    "version": 3
   },
   "file_extension": ".py",
   "mimetype": "text/x-python",
   "name": "python",
   "nbconvert_exporter": "python",
   "pygments_lexer": "ipython3",
   "version": "3.11.1"
  },
  "orig_nbformat": 4,
  "vscode": {
   "interpreter": {
    "hash": "6593e471efd4ef78b7b45ef6ff592059fd17045d48bc7c70524a5d1e8dc65848"
   }
  }
 },
 "nbformat": 4,
 "nbformat_minor": 2
}
