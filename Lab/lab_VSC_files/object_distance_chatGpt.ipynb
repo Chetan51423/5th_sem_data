{
 "cells": [
  {
   "cell_type": "code",
   "execution_count": 1,
   "metadata": {},
   "outputs": [],
   "source": [
    "import cv2\n",
    "import numpy as np"
   ]
  },
  {
   "cell_type": "code",
   "execution_count": 2,
   "metadata": {},
   "outputs": [],
   "source": [
    "camera_matrix = [[1.40894054e+03, 0.00000000e+00, 6.21548603e+02],\n",
    "                          [0.00000000e+00, 1.41419267e+03, 4.36870727e+02],\n",
    "                          [0.00000000e+00, 0.00000000e+00, 1.00000000e+00]]\n",
    "#dist_coeffs = np.load(\"dist_coeffs.npy\",allow_pickle=True,fix_imports=True,encoding='latin1')"
   ]
  },
  {
   "cell_type": "code",
   "execution_count": 3,
   "metadata": {},
   "outputs": [],
   "source": [
    "dist_coeffs = [[ 1.20133890e-01,  2.87074381e-01,  1.22318077e-02, -4.77015667e-04, -2.82576151e+00]]"
   ]
  },
  {
   "cell_type": "code",
   "execution_count": 4,
   "metadata": {},
   "outputs": [],
   "source": [
    "real_world_size = 0.05 # 5 cm"
   ]
  },
  {
   "cell_type": "code",
   "execution_count": 5,
   "metadata": {},
   "outputs": [
    {
     "name": "stdout",
     "output_type": "stream",
     "text": [
      "Distance from camera to object: 0.19 meters\n"
     ]
    }
   ],
   "source": [
    "\n",
    "\n",
    "\n",
    "img = cv2.imread(\"./images/WIN_20230130_21_56_01_Pro.jpg\")\n",
    "gray = cv2.cvtColor(img, cv2.COLOR_BGR2GRAY)\n",
    "edges = cv2.Canny(gray, 50, 150)\n",
    "contours, hierarchy = cv2.findContours(edges, cv2.RETR_EXTERNAL, cv2.CHAIN_APPROX_SIMPLE)\n",
    "contour = max(contours, key=cv2.contourArea)\n",
    "x, y, w, h = cv2.boundingRect(contour)\n",
    "focal_length = 1.40894054e+03\n",
    "distance = (real_world_size * focal_length) / w\n",
    "print(\"Distance from camera to object: {:.2f} meters\".format(distance))"
   ]
  },
  {
   "cell_type": "code",
   "execution_count": 84,
   "metadata": {},
   "outputs": [],
   "source": [
    "#gray = cv2.cvtColor(img, cv2.COLOR_BGR2GRAY)"
   ]
  },
  {
   "cell_type": "code",
   "execution_count": 85,
   "metadata": {},
   "outputs": [],
   "source": [
    "#edges = cv2.Canny(gray, 50, 150)"
   ]
  },
  {
   "cell_type": "code",
   "execution_count": 86,
   "metadata": {},
   "outputs": [],
   "source": [
    "#contours, hierarchy = cv2.findContours(edges, cv2.RETR_EXTERNAL, cv2.CHAIN_APPROX_SIMPLE)"
   ]
  },
  {
   "cell_type": "code",
   "execution_count": 87,
   "metadata": {},
   "outputs": [],
   "source": [
    "#contour = max(contours, key=cv2.contourArea)"
   ]
  },
  {
   "cell_type": "code",
   "execution_count": 88,
   "metadata": {},
   "outputs": [],
   "source": [
    "#x, y, w, h = cv2.boundingRect(contour)"
   ]
  },
  {
   "cell_type": "code",
   "execution_count": 89,
   "metadata": {},
   "outputs": [],
   "source": [
    "#focal_length = 1.40894054e+03"
   ]
  },
  {
   "cell_type": "code",
   "execution_count": 90,
   "metadata": {},
   "outputs": [],
   "source": [
    "#distance = (real_world_size * focal_length) / w"
   ]
  },
  {
   "cell_type": "code",
   "execution_count": 91,
   "metadata": {},
   "outputs": [
    {
     "name": "stdout",
     "output_type": "stream",
     "text": [
      "Distance from camera to object: 0.15 meters\n"
     ]
    }
   ],
   "source": [
    "#print(\"Distance from camera to object: {:.2f} meters\".format(distance))"
   ]
  }
 ],
 "metadata": {
  "kernelspec": {
   "display_name": "Python 3",
   "language": "python",
   "name": "python3"
  },
  "language_info": {
   "codemirror_mode": {
    "name": "ipython",
    "version": 3
   },
   "file_extension": ".py",
   "mimetype": "text/x-python",
   "name": "python",
   "nbconvert_exporter": "python",
   "pygments_lexer": "ipython3",
   "version": "3.10.10"
  },
  "orig_nbformat": 4,
  "vscode": {
   "interpreter": {
    "hash": "5e7cc3094231a06124cebf9bc1c37f85c7c620c6bad80be3b2e56f50025fc465"
   }
  }
 },
 "nbformat": 4,
 "nbformat_minor": 2
}
